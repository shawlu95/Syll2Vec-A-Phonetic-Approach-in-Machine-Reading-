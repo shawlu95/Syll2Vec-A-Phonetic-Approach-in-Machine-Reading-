{
 "cells": [
  {
   "cell_type": "code",
   "execution_count": 1,
   "metadata": {},
   "outputs": [],
   "source": [
    "from syllabify import *\n",
    "import numpy as np\n",
    "import json"
   ]
  },
  {
   "cell_type": "code",
   "execution_count": 2,
   "metadata": {},
   "outputs": [],
   "source": [
    "with open('../data/test-v2.0.json') as json_file:  \n",
    "    data = json.load(json_file)"
   ]
  },
  {
   "cell_type": "code",
   "execution_count": 3,
   "metadata": {},
   "outputs": [
    {
     "data": {
      "text/plain": [
       "dict_keys(['data', 'version'])"
      ]
     },
     "execution_count": 3,
     "metadata": {},
     "output_type": "execute_result"
    }
   ],
   "source": [
    "data.keys()"
   ]
  },
  {
   "cell_type": "code",
   "execution_count": 4,
   "metadata": {},
   "outputs": [
    {
     "data": {
      "text/plain": [
       "20"
      ]
     },
     "execution_count": 4,
     "metadata": {},
     "output_type": "execute_result"
    }
   ],
   "source": [
    "len(data['data'])"
   ]
  },
  {
   "cell_type": "code",
   "execution_count": 5,
   "metadata": {},
   "outputs": [
    {
     "data": {
      "text/plain": [
       "{'context': 'A prime number (or a prime) is a natural number greater than 1 that has no positive divisors other than 1 and itself. A natural number greater than 1 that is not a prime number is called a composite number. For example, 5 is prime because 1 and 5 are its only positive integer factors, whereas 6 is composite because it has the divisors 2 and 3 in addition to 1 and 6. The fundamental theorem of arithmetic establishes the central role of primes in number theory: any integer greater than 1 can be expressed as a product of primes that is unique up to ordering. The uniqueness in this theorem requires excluding 1 as a prime because one can include arbitrarily many instances of 1 in any factorization, e.g., 3, 1 · 3, 1 · 1 · 3, etc. are all valid factorizations of 3.',\n",
       " 'qas': [{'answers': [],\n",
       "   'id': '84172fcbff821b3efe4c1d9eb',\n",
       "   'question': 'What is the only divisor besides 1 that a prime number can have?'},\n",
       "  {'answers': [],\n",
       "   'id': 'cac4b7f786f7a2cfda50e3b82',\n",
       "   'question': 'What are numbers greater than 1 that can be divided by 3 or more numbers called?'},\n",
       "  {'answers': [],\n",
       "   'id': '3b5bd07c3f7c33aaf32249d06',\n",
       "   'question': 'What theorem defines the main role of primes in number theory?'},\n",
       "  {'answers': [],\n",
       "   'id': 'd8cb92a78d5231a3ecead9f8d',\n",
       "   'question': 'Any number larger than 1 can be represented as a product of what?'},\n",
       "  {'answers': [],\n",
       "   'id': 'd2854c0eaa7cbfbdba6be22d1',\n",
       "   'question': 'Why must one be excluded in order to preserve the uniqueness of the fundamental theorem?'},\n",
       "  {'answers': [],\n",
       "   'id': 'c9fa1ea9b93143aefcd6c45a0',\n",
       "   'question': 'What is the only divisor besides 1 that a product can have?'},\n",
       "  {'answers': [],\n",
       "   'id': '3451b734d34aeae3cbffcd87e',\n",
       "   'question': 'What are numbers greater than 1 that can be divided by 6 or more numbers called?'},\n",
       "  {'answers': [],\n",
       "   'id': 'ff1ed5ace0342fdb8e58255f4',\n",
       "   'question': 'What can any number larger than 6 can be represented as?'},\n",
       "  {'answers': [],\n",
       "   'id': 'dd0e6e3717ffb6a6be7fe7ffe',\n",
       "   'question': 'A number larger than -3 can be represented as a product of what?'},\n",
       "  {'answers': [],\n",
       "   'id': 'd5a77fa6639f62de8cec0779d',\n",
       "   'question': 'Why must -1 be excluded in order to preserve the uniqueness of the fundamental theorem?'}]}"
      ]
     },
     "execution_count": 5,
     "metadata": {},
     "output_type": "execute_result"
    }
   ],
   "source": [
    "data['data'][0]['paragraphs'][0]"
   ]
  },
  {
   "cell_type": "code",
   "execution_count": 6,
   "metadata": {},
   "outputs": [],
   "source": [
    "dataset = np.load('../data/train.npz')"
   ]
  },
  {
   "cell_type": "code",
   "execution_count": 7,
   "metadata": {},
   "outputs": [
    {
     "data": {
      "text/plain": [
       "129941"
      ]
     },
     "execution_count": 7,
     "metadata": {},
     "output_type": "execute_result"
    }
   ],
   "source": [
    "len(dataset['context_idxs'])"
   ]
  },
  {
   "cell_type": "code",
   "execution_count": 8,
   "metadata": {},
   "outputs": [],
   "source": [
    "with open('../data/word2idx.json') as json_file:  \n",
    "    word2idx = json.load(json_file)"
   ]
  },
  {
   "cell_type": "code",
   "execution_count": 9,
   "metadata": {},
   "outputs": [],
   "source": [
    "words = list(word2idx.keys())"
   ]
  },
  {
   "cell_type": "markdown",
   "metadata": {},
   "source": [
    "##### Syllabify a word"
   ]
  },
  {
   "cell_type": "code",
   "execution_count": 14,
   "metadata": {},
   "outputs": [],
   "source": [
    "word_idx = 5"
   ]
  },
  {
   "cell_type": "code",
   "execution_count": 15,
   "metadata": {},
   "outputs": [
    {
     "data": {
      "text/plain": [
       "'Mumford'"
      ]
     },
     "execution_count": 15,
     "metadata": {},
     "output_type": "execute_result"
    }
   ],
   "source": [
    "words[word_idx]"
   ]
  },
  {
   "cell_type": "code",
   "execution_count": 16,
   "metadata": {},
   "outputs": [
    {
     "name": "stdout",
     "output_type": "stream",
     "text": [
      "mahm\n",
      "ferd\n"
     ]
    }
   ],
   "source": [
    "syllable = list(generate(words[word_idx]))\n",
    "for syll in syllable:\n",
    "    for s in syll:\n",
    "        print(s)"
   ]
  }
 ],
 "metadata": {
  "kernelspec": {
   "display_name": "Python 3",
   "language": "python",
   "name": "python3"
  },
  "language_info": {
   "codemirror_mode": {
    "name": "ipython",
    "version": 3
   },
   "file_extension": ".py",
   "mimetype": "text/x-python",
   "name": "python",
   "nbconvert_exporter": "python",
   "pygments_lexer": "ipython3",
   "version": "3.5.5"
  }
 },
 "nbformat": 4,
 "nbformat_minor": 2
}

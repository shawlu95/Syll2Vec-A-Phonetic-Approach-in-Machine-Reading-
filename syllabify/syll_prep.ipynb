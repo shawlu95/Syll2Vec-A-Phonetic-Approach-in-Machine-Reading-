{
 "cells": [
  {
   "cell_type": "markdown",
   "metadata": {},
   "source": [
    "__Author__: Shaw Lu\n",
    "* Parse vocabulart into syllables.\n",
    "* Prepare syllables into trainable format, to be trained by word2vec.\n",
    "* The following [repo](https://github.com/cainesap/syllabify) was used to breakword into syllables, with minor modification.\n",
    "* Stress of vowels was ignored."
   ]
  },
  {
   "cell_type": "code",
   "execution_count": 1,
   "metadata": {},
   "outputs": [],
   "source": [
    "from syllabify import *\n",
    "import numpy as np\n",
    "import json"
   ]
  },
  {
   "cell_type": "code",
   "execution_count": 2,
   "metadata": {},
   "outputs": [
    {
     "name": "stdout",
     "output_type": "stream",
     "text": [
      "daa\n",
      "kyah\n",
      "mehn\n",
      "ter\n",
      "iy\n"
     ]
    }
   ],
   "source": [
    "# sanity check\n",
    "syllable = list(generate(\"documentary\"))\n",
    "for syll in syllable:\n",
    "    for s in syll:\n",
    "        print(s)"
   ]
  },
  {
   "cell_type": "code",
   "execution_count": 7,
   "metadata": {},
   "outputs": [],
   "source": [
    "source = open('datasetSentencesOrig.txt', 'r')\n",
    "for i, line in enumerate(source): continue\n",
    "num_lines = i"
   ]
  },
  {
   "cell_type": "code",
   "execution_count": 9,
   "metadata": {},
   "outputs": [
    {
     "name": "stdout",
     "output_type": "stream",
     "text": [
      "sylabify 99.96%\r"
     ]
    }
   ],
   "source": [
    "source = open('datasetSentencesOrig.txt', 'r')\n",
    "\n",
    "syl_counter = {}\n",
    "word_set = set()\n",
    "missed = {}\n",
    "\n",
    "word_count = []\n",
    "syl_count = []\n",
    "syl_sents = []\n",
    "orig_sents = []\n",
    "for i, line in enumerate(source):\n",
    "    if i == 0: continue\n",
    "    idx, sen = line.split(\"\\t\")\n",
    "    orig_sents.append(sen)\n",
    "    syl_sent = []\n",
    "    for word in sen.split():\n",
    "        if not word: continue\n",
    "        word = word.lower()\n",
    "        word_set.add(word)\n",
    "        syllable = generate(word.rstrip())\n",
    "        raw = get_raw(word.rstrip())\n",
    "        if syllable:\n",
    "            try:\n",
    "                for syll in syllable:\n",
    "                    for s in syll:\n",
    "                        syl_counter[str(s)] = syl_counter.get(str(s), 0) + 1\n",
    "                        syl_sent.append(str(s))\n",
    "            except:\n",
    "                syl_sent.append(word)\n",
    "                missed[word] = missed.get(word, 0) + 1\n",
    "        else:\n",
    "            syl_sent.append(word)\n",
    "                \n",
    "        word_count.append(len(word_set))\n",
    "        syl_count.append(len(syl_counter))\n",
    "    syl_sents.append([idx, \" \".join(syl_sent)])\n",
    "    \n",
    "    if i % 10 == 0: print(\"sylabify %.2f%%\"%(100 * i / num_lines), end=\"\\r\")"
   ]
  },
  {
   "cell_type": "code",
   "execution_count": 22,
   "metadata": {},
   "outputs": [
    {
     "data": {
      "text/plain": [
       "11855"
      ]
     },
     "execution_count": 22,
     "metadata": {},
     "output_type": "execute_result"
    }
   ],
   "source": [
    "len(orig_sents)"
   ]
  },
  {
   "cell_type": "code",
   "execution_count": 20,
   "metadata": {},
   "outputs": [
    {
     "data": {
      "text/plain": [
       "['13',\n",
       " 'waht rih liy ser pray zihz ah bawt wisegirls ihz ihts low-key kwaa lah tiy ahnd jheh nyah wahn tehn der nahs .']"
      ]
     },
     "execution_count": 20,
     "metadata": {},
     "output_type": "execute_result"
    }
   ],
   "source": [
    "sent_idx = 12\n",
    "syl_sents[sent_idx]"
   ]
  },
  {
   "cell_type": "code",
   "execution_count": 21,
   "metadata": {},
   "outputs": [
    {
     "data": {
      "text/plain": [
       "'What really surprises about Wisegirls is its low-key quality and genuine tenderness .\\n'"
      ]
     },
     "execution_count": 21,
     "metadata": {},
     "output_type": "execute_result"
    }
   ],
   "source": [
    "orig_sents[sent_idx]"
   ]
  },
  {
   "cell_type": "code",
   "execution_count": 40,
   "metadata": {},
   "outputs": [],
   "source": [
    "with open('datasetSentences.txt', 'w') as file:\n",
    "    file.write(\"sentence_index\tsentence\\n\")\n",
    "    for syl_sent in syl_sents:\n",
    "        file.write(\"\\t\".join(syl_sent) + \"\\n\")"
   ]
  },
  {
   "cell_type": "code",
   "execution_count": 41,
   "metadata": {},
   "outputs": [
    {
     "name": "stdout",
     "output_type": "stream",
     "text": [
      "Vocab size: 19538\n",
      "Syllable size: 5524\n",
      "Compression rate: 28.27%\n",
      "Missed rate: 0.27%\n"
     ]
    }
   ],
   "source": [
    "# original case\n",
    "# Word count: 21701\n",
    "# Syllabus count: 5524\n",
    "# Compression rate: 25.46%\n",
    "\n",
    "# lowercase\n",
    "# Vocab size: 19538\n",
    "# Syllable size: 5524\n",
    "# Compression rate: 28.27%\n",
    "# Missed rate: 0.27%\n",
    "    \n",
    "print(\"Vocab size: %i\"%len(word_set))\n",
    "print(\"Syllable size: %i\"%len(syl_counter))\n",
    "print(\"Compression rate: %.2f%%\"%(100 * len(syl_counter) / len(word_set)))\n",
    "print(\"Missed rate: %.2f%%\"%(100 * sum(missed.values()) / len(word_set)))"
   ]
  },
  {
   "cell_type": "code",
   "execution_count": 42,
   "metadata": {},
   "outputs": [
    {
     "data": {
      "text/plain": [
       "{'branched': 1,\n",
       " 'congratulate': 1,\n",
       " 'drenched': 1,\n",
       " 'engross': 1,\n",
       " 'engrossing': 33,\n",
       " 'ingredient': 1,\n",
       " 'ingredients': 11,\n",
       " 'punched': 1,\n",
       " 'self-congratulation': 2}"
      ]
     },
     "execution_count": 42,
     "metadata": {},
     "output_type": "execute_result"
    }
   ],
   "source": [
    "missed"
   ]
  },
  {
   "cell_type": "code",
   "execution_count": 43,
   "metadata": {},
   "outputs": [],
   "source": [
    "from matplotlib import pyplot as plt"
   ]
  },
  {
   "cell_type": "code",
   "execution_count": 44,
   "metadata": {},
   "outputs": [
    {
     "data": {
      "image/png": "[encoded data removed]",
      "text/plain": [
       "<Figure size 432x288 with 1 Axes>"
      ]
     },
     "metadata": {
      "needs_background": "light"
     },
     "output_type": "display_data"
    }
   ],
   "source": [
    "plt.plot(word_count)\n",
    "plt.xlabel(\"word seen\")\n",
    "plt.ylabel(\"|V|\")\n",
    "plt.plot(syl_count)\n",
    "plt.savefig(\"size.png\")"
   ]
  },
  {
   "cell_type": "markdown",
   "metadata": {},
   "source": [
    "##### Most frequent syllables"
   ]
  },
  {
   "cell_type": "code",
   "execution_count": 45,
   "metadata": {},
   "outputs": [],
   "source": [
    "counter_list = [[key, val] for key, val in syl_counter.items()]"
   ]
  },
  {
   "cell_type": "code",
   "execution_count": 46,
   "metadata": {},
   "outputs": [],
   "source": [
    "counter_list.sort(key=lambda x : -x[1])"
   ]
  },
  {
   "cell_type": "code",
   "execution_count": 47,
   "metadata": {},
   "outputs": [
    {
     "data": {
      "text/plain": [
       "False"
      ]
     },
     "execution_count": 47,
     "metadata": {},
     "output_type": "execute_result"
    }
   ],
   "source": [
    "\"KAA\" in syl_counter"
   ]
  },
  {
   "cell_type": "code",
   "execution_count": 48,
   "metadata": {},
   "outputs": [
    {
     "data": {
      "text/plain": [
       "['ah',\n",
       " 'dhah',\n",
       " 'ahnd',\n",
       " 'ahv',\n",
       " 'tuw',\n",
       " 'ihn',\n",
       " 'liy',\n",
       " 'ihz',\n",
       " 'iht',\n",
       " 'ehs',\n",
       " 'riy',\n",
       " 'dhaet',\n",
       " 'faor',\n",
       " 'ter',\n",
       " 'aez',\n",
       " 'dih',\n",
       " 'ih',\n",
       " 'mah',\n",
       " 'shahn',\n",
       " 'viy']"
      ]
     },
     "execution_count": 48,
     "metadata": {},
     "output_type": "execute_result"
    }
   ],
   "source": [
    "[x[0] for x in counter_list[:20]]"
   ]
  },
  {
   "cell_type": "code",
   "execution_count": 49,
   "metadata": {},
   "outputs": [
    {
     "data": {
      "text/plain": [
       "[['skwihn', 1],\n",
       " ['vowl', 1],\n",
       " ['ners', 1],\n",
       " ['grahnts', 1],\n",
       " ['boyl', 1],\n",
       " ['snihs', 1],\n",
       " ['smihr', 1],\n",
       " ['tuws', 1],\n",
       " ['priyk', 1],\n",
       " ['pihg', 1]]"
      ]
     },
     "execution_count": 49,
     "metadata": {},
     "output_type": "execute_result"
    }
   ],
   "source": [
    "counter_list[-10:]"
   ]
  },
  {
   "cell_type": "markdown",
   "metadata": {},
   "source": [
    "##### Save trainable formats"
   ]
  },
  {
   "cell_type": "code",
   "execution_count": 50,
   "metadata": {},
   "outputs": [],
   "source": [
    "with open('syllable_frequency.txt', 'w') as file:\n",
    "    for syllable, count in counter_list:\n",
    "        file.write(\"%s|%i\\n\"%(syllable, count))"
   ]
  },
  {
   "cell_type": "code",
   "execution_count": 51,
   "metadata": {},
   "outputs": [],
   "source": [
    "with open('dictionary.txt', 'w') as file:\n",
    "    for idx, (syllable, count) in enumerate(counter_list):\n",
    "        file.write(\"%s|%i\\n\"%(syllable, idx))"
   ]
  }
 ],
 "metadata": {
  "kernelspec": {
   "display_name": "Python 3",
   "language": "python",
   "name": "python3"
  },
  "language_info": {
   "codemirror_mode": {
    "name": "ipython",
    "version": 3
   },
   "file_extension": ".py",
   "mimetype": "text/x-python",
   "name": "python",
   "nbconvert_exporter": "python",
   "pygments_lexer": "ipython3",
   "version": "3.5.5"
  }
 },
 "nbformat": 4,
 "nbformat_minor": 2
}

{
 "cells": [
  {
   "cell_type": "code",
   "execution_count": 89,
   "metadata": {},
   "outputs": [],
   "source": [
    "from syllabify import generate\n",
    "import json\n",
    "from collections import defaultdict\n",
    "from tqdm import tqdm"
   ]
  },
  {
   "cell_type": "code",
   "execution_count": 90,
   "metadata": {},
   "outputs": [],
   "source": [
    "with open('../data/word2idx.json') as json_file:  \n",
    "    word2idx = json.load(json_file)"
   ]
  },
  {
   "cell_type": "code",
   "execution_count": 91,
   "metadata": {},
   "outputs": [],
   "source": [
    "with open('../data/syll2idx.json') as json_file:  \n",
    "    syll2idx = json.load(json_file)"
   ]
  },
  {
   "cell_type": "code",
   "execution_count": 92,
   "metadata": {},
   "outputs": [],
   "source": [
    "idx2syll = {val : key for key, val in syll2idx.items()}\n",
    "idx2word = {val : key for key, val in word2idx.items()}"
   ]
  },
  {
   "cell_type": "code",
   "execution_count": 93,
   "metadata": {},
   "outputs": [],
   "source": [
    "unk_emb = syll_emb[syll2idx['UNK']]"
   ]
  },
  {
   "cell_type": "code",
   "execution_count": 94,
   "metadata": {},
   "outputs": [
    {
     "name": "stdout",
     "output_type": "stream",
     "text": [
      "Offset all indices by 1. \n"
     ]
    }
   ],
   "source": [
    "if 0 in idx2syll:\n",
    "    with open('../data/syll_emb.json') as json_file:  \n",
    "        syll_emb = json.load(json_file)\n",
    "        \n",
    "    unk_emb = syll_emb[syll2idx['UNK']]\n",
    "    del syll_emb[syll2idx['UNK']]\n",
    "    del syll2idx['UNK']\n",
    "    \n",
    "    syll2idx = {key : val + 2 for key, val in syll2idx.items()}\n",
    "    syll2idx[\"--NULL--\"] = 0\n",
    "    syll2idx[\"--OOV--\"] = 1\n",
    "    idx2syll = {val : key for key, val in syll2idx.items()}\n",
    "    \n",
    "    syll_emb.insert(0, unk_emb)\n",
    "    syll_emb.insert(0, [0] * len(syll_emb[0]))\n",
    "    \n",
    "    with open('../data/syll2idx.json', 'w') as file:\n",
    "        file.write(json.dumps(syll2idx))\n",
    "    with open('../data/syll_emb.json', 'w') as file:\n",
    "        file.write(json.dumps(syll_emb))\n",
    "    \n",
    "    print(\"Offset all indices by 1. \")"
   ]
  },
  {
   "cell_type": "code",
   "execution_count": 125,
   "metadata": {},
   "outputs": [
    {
     "data": {
      "text/plain": [
       "torch.Size([19945, 64])"
      ]
     },
     "execution_count": 125,
     "metadata": {},
     "output_type": "execute_result"
    }
   ],
   "source": [
    "import torch\n",
    "torch.LongTensor(syll_emb).shape"
   ]
  },
  {
   "cell_type": "code",
   "execution_count": 95,
   "metadata": {},
   "outputs": [
    {
     "data": {
      "text/plain": [
       "'--NULL--'"
      ]
     },
     "execution_count": 95,
     "metadata": {},
     "output_type": "execute_result"
    }
   ],
   "source": [
    "idx2syll[0]"
   ]
  },
  {
   "cell_type": "code",
   "execution_count": 96,
   "metadata": {},
   "outputs": [
    {
     "data": {
      "text/plain": [
       "[0,\n",
       " 0,\n",
       " 0,\n",
       " 0,\n",
       " 0,\n",
       " 0,\n",
       " 0,\n",
       " 0,\n",
       " 0,\n",
       " 0,\n",
       " 0,\n",
       " 0,\n",
       " 0,\n",
       " 0,\n",
       " 0,\n",
       " 0,\n",
       " 0,\n",
       " 0,\n",
       " 0,\n",
       " 0,\n",
       " 0,\n",
       " 0,\n",
       " 0,\n",
       " 0,\n",
       " 0,\n",
       " 0,\n",
       " 0,\n",
       " 0,\n",
       " 0,\n",
       " 0,\n",
       " 0,\n",
       " 0,\n",
       " 0,\n",
       " 0,\n",
       " 0,\n",
       " 0,\n",
       " 0,\n",
       " 0,\n",
       " 0,\n",
       " 0,\n",
       " 0,\n",
       " 0,\n",
       " 0,\n",
       " 0,\n",
       " 0,\n",
       " 0,\n",
       " 0,\n",
       " 0,\n",
       " 0,\n",
       " 0,\n",
       " 0,\n",
       " 0,\n",
       " 0,\n",
       " 0,\n",
       " 0,\n",
       " 0,\n",
       " 0,\n",
       " 0,\n",
       " 0,\n",
       " 0,\n",
       " 0,\n",
       " 0,\n",
       " 0,\n",
       " 0]"
      ]
     },
     "execution_count": 96,
     "metadata": {},
     "output_type": "execute_result"
    }
   ],
   "source": [
    "syll_emb[0]"
   ]
  },
  {
   "cell_type": "code",
   "execution_count": 97,
   "metadata": {},
   "outputs": [
    {
     "data": {
      "text/plain": [
       "'--OOV--'"
      ]
     },
     "execution_count": 97,
     "metadata": {},
     "output_type": "execute_result"
    }
   ],
   "source": [
    "idx2syll[1]"
   ]
  },
  {
   "cell_type": "code",
   "execution_count": 98,
   "metadata": {},
   "outputs": [
    {
     "data": {
      "text/plain": [
       "[0.0014307164713864614,\n",
       " 0.0021365594122892146,\n",
       " 0.0009235047827434017,\n",
       " -0.002938784927050622,\n",
       " 0.001546670698341199,\n",
       " 0.006123050894207024,\n",
       " -0.005731059461546046,\n",
       " -0.006642020163744952,\n",
       " -0.0021960306657374806,\n",
       " 0.007348281494424248,\n",
       " 0.007290943340438444,\n",
       " 0.002574536935244502,\n",
       " 0.0051507707383378135,\n",
       " 0.004025947947273746,\n",
       " 0.002468660177383236,\n",
       " 0.0037806556796870176,\n",
       " 0.00679073152635239,\n",
       " 0.004562562887983951,\n",
       " 0.005493858193688101,\n",
       " 0.00563448103528915,\n",
       " 0.004057739914956733,\n",
       " -0.007639652687144088,\n",
       " -0.0013955127342490693,\n",
       " -0.0016969815450679632,\n",
       " 0.0007192027372602619,\n",
       " 0.0035806104783647087,\n",
       " 0.0014903020241238147,\n",
       " 0.0022611052025641315,\n",
       " 0.00481063274290057,\n",
       " -0.0024338811448644648,\n",
       " 0.003913951506307441,\n",
       " 0.00016663605379791703,\n",
       " 0.007715262471747577,\n",
       " 0.004148492402889904,\n",
       " -0.00637269780897016,\n",
       " 0.006856086736407665,\n",
       " -0.00035711320610042237,\n",
       " -0.003870998298113191,\n",
       " -0.004620353438435783,\n",
       " -0.002021003537623512,\n",
       " -0.0021310827159989956,\n",
       " 0.0014301389193645073,\n",
       " -0.0021542579593912675,\n",
       " -0.0030421121580359867,\n",
       " 0.00022849457154503448,\n",
       " 0.003782719348910498,\n",
       " 0.0017958858293539801,\n",
       " -0.00637432810094315,\n",
       " -0.0041347198527072904,\n",
       " -0.004163047128833834,\n",
       " 5.5409527806370845e-05,\n",
       " -0.003947285922005611,\n",
       " -0.007123303274479239,\n",
       " -0.002919446779462681,\n",
       " 0.0033025748177485503,\n",
       " 0.0019797260984525493,\n",
       " 0.0005952617634639931,\n",
       " -0.00047556290755876654,\n",
       " 0.005153341650064565,\n",
       " 0.0014145195194719597,\n",
       " -0.0020156112992572688,\n",
       " 0.0033368478828363964,\n",
       " -0.005255468326417909,\n",
       " 0.0051435216758040254]"
      ]
     },
     "execution_count": 98,
     "metadata": {},
     "output_type": "execute_result"
    }
   ],
   "source": [
    "syll_emb[1]"
   ]
  },
  {
   "cell_type": "code",
   "execution_count": 99,
   "metadata": {},
   "outputs": [],
   "source": [
    "words = list(word2idx.keys())"
   ]
  },
  {
   "cell_type": "code",
   "execution_count": 100,
   "metadata": {},
   "outputs": [
    {
     "data": {
      "text/plain": [
       "1"
      ]
     },
     "execution_count": 100,
     "metadata": {},
     "output_type": "execute_result"
    }
   ],
   "source": [
    "syll2idx['--OOV--']"
   ]
  },
  {
   "cell_type": "code",
   "execution_count": 101,
   "metadata": {},
   "outputs": [],
   "source": [
    "word2syll_idx = defaultdict(list)\n",
    "word_idx2syll_idx = defaultdict(list)\n",
    "\n",
    "word_missed = 0\n",
    "syllable_count = 0\n",
    "syllable_missed = 0\n",
    "\n",
    "for i, word in enumerate(words):\n",
    "    syllable = generate(word)\n",
    "    if not syllable:\n",
    "        word_missed += 1\n",
    "        continue\n",
    "    try:\n",
    "        for syll in syllable:\n",
    "            syllable_count += 1\n",
    "            for s in syll:\n",
    "                if str(s) in syll2idx: \n",
    "                    word2syll_idx[word].append(syll2idx[str(s)])\n",
    "                    word_idx2syll_idx[word2idx[word]].append(syll2idx[str(s)])\n",
    "                else:\n",
    "                    # miss a syllable, replace it with '--OOV--'\n",
    "                    word2syll_idx[word].append(syll2idx['--OOV--'])\n",
    "                    word_idx2syll_idx[word2idx[word]].append(syll2idx['--OOV--'])\n",
    "                    syllable_missed += 1\n",
    "    except:\n",
    "        # cannot be broken down into syllables, match entire word to '--OOV--'\n",
    "        word2syll_idx[word].append(syll2idx['--OOV--'])\n",
    "        word_idx2syll_idx[word2idx[word]].append(syll2idx['--OOV--'])"
   ]
  },
  {
   "cell_type": "markdown",
   "metadata": {},
   "source": [
    "#### Sanity check"
   ]
  },
  {
   "cell_type": "code",
   "execution_count": 102,
   "metadata": {},
   "outputs": [
    {
     "data": {
      "text/plain": [
       "534"
      ]
     },
     "execution_count": 102,
     "metadata": {},
     "output_type": "execute_result"
    }
   ],
   "source": [
    "word2idx['type']"
   ]
  },
  {
   "cell_type": "code",
   "execution_count": 103,
   "metadata": {},
   "outputs": [
    {
     "data": {
      "text/plain": [
       "[2200]"
      ]
     },
     "execution_count": 103,
     "metadata": {},
     "output_type": "execute_result"
    }
   ],
   "source": [
    "word2syll_idx['type']"
   ]
  },
  {
   "cell_type": "code",
   "execution_count": 104,
   "metadata": {},
   "outputs": [
    {
     "data": {
      "text/plain": [
       "[2200]"
      ]
     },
     "execution_count": 104,
     "metadata": {},
     "output_type": "execute_result"
    }
   ],
   "source": [
    "word_idx2syll_idx[534]"
   ]
  },
  {
   "cell_type": "code",
   "execution_count": 110,
   "metadata": {},
   "outputs": [
    {
     "data": {
      "text/plain": [
       "88714"
      ]
     },
     "execution_count": 110,
     "metadata": {},
     "output_type": "execute_result"
    }
   ],
   "source": [
    "len(words)"
   ]
  },
  {
   "cell_type": "code",
   "execution_count": 115,
   "metadata": {},
   "outputs": [],
   "source": [
    "# some words cannot be syllabified\n",
    "assert(len(word2syll_idx) + word_missed == len(words))"
   ]
  },
  {
   "cell_type": "code",
   "execution_count": 116,
   "metadata": {},
   "outputs": [
    {
     "data": {
      "text/plain": [
       "40.40624929548888"
      ]
     },
     "execution_count": 116,
     "metadata": {},
     "output_type": "execute_result"
    }
   ],
   "source": [
    "# miss rate is pretty high\n",
    "100 * word_missed / len(words)"
   ]
  },
  {
   "cell_type": "code",
   "execution_count": 117,
   "metadata": {},
   "outputs": [
    {
     "data": {
      "text/plain": [
       "6986"
      ]
     },
     "execution_count": 117,
     "metadata": {},
     "output_type": "execute_result"
    }
   ],
   "source": [
    "# missed syllable\n",
    "syllable_missed"
   ]
  },
  {
   "cell_type": "code",
   "execution_count": 121,
   "metadata": {},
   "outputs": [
    {
     "data": {
      "text/plain": [
       "5087"
      ]
     },
     "execution_count": 121,
     "metadata": {},
     "output_type": "execute_result"
    }
   ],
   "source": [
    "# existing syllables\n",
    "import itertools\n",
    "unique_syll = set(itertools.chain.from_iterable(word2syll_idx.values()))\n",
    "len(unique_syll)"
   ]
  },
  {
   "cell_type": "code",
   "execution_count": 2,
   "metadata": {},
   "outputs": [
    {
     "data": {
      "text/plain": [
       "0.5786465667191253"
      ]
     },
     "execution_count": 2,
     "metadata": {},
     "output_type": "execute_result"
    }
   ],
   "source": [
    "6986 / (6986 + 5087)"
   ]
  },
  {
   "cell_type": "code",
   "execution_count": 122,
   "metadata": {},
   "outputs": [
    {
     "data": {
      "text/plain": [
       "19945"
      ]
     },
     "execution_count": 122,
     "metadata": {},
     "output_type": "execute_result"
    }
   ],
   "source": [
    "# embedding size (19944 + 1) * syll_dim\n",
    "len(syll_emb)"
   ]
  },
  {
   "cell_type": "markdown",
   "metadata": {},
   "source": [
    "#### Syllable check"
   ]
  },
  {
   "cell_type": "code",
   "execution_count": 105,
   "metadata": {},
   "outputs": [
    {
     "data": {
      "text/plain": [
       "['tayp']"
      ]
     },
     "execution_count": 105,
     "metadata": {},
     "output_type": "execute_result"
    }
   ],
   "source": [
    "[idx2syll[idx] for idx in word2syll_idx['type']]"
   ]
  },
  {
   "cell_type": "code",
   "execution_count": 106,
   "metadata": {},
   "outputs": [
    {
     "data": {
      "text/plain": [
       "['trah', 'dihsh', 'nah', 'lahsts']"
      ]
     },
     "execution_count": 106,
     "metadata": {},
     "output_type": "execute_result"
    }
   ],
   "source": [
    "[idx2syll[idx] for idx in word2syll_idx['traditionalists']]"
   ]
  },
  {
   "cell_type": "code",
   "execution_count": 107,
   "metadata": {},
   "outputs": [
    {
     "data": {
      "text/plain": [
       "['bay', 'ow', 'ehn', 'jhah', 'nihr']"
      ]
     },
     "execution_count": 107,
     "metadata": {},
     "output_type": "execute_result"
    }
   ],
   "source": [
    "[idx2syll[idx] for idx in word2syll_idx['bioengineer']]"
   ]
  },
  {
   "cell_type": "code",
   "execution_count": 108,
   "metadata": {},
   "outputs": [],
   "source": [
    "with open('../data/word2syll_idx.json', 'w') as file:\n",
    "    file.write(json.dumps(word2syll_idx))"
   ]
  },
  {
   "cell_type": "code",
   "execution_count": 109,
   "metadata": {},
   "outputs": [],
   "source": [
    "with open('../data/word_idx2syll_idx.json', 'w') as file:\n",
    "    file.write(json.dumps(word_idx2syll_idx))"
   ]
  }
 ],
 "metadata": {
  "kernelspec": {
   "display_name": "Python 3",
   "language": "python",
   "name": "python3"
  },
  "language_info": {
   "codemirror_mode": {
    "name": "ipython",
    "version": 3
   },
   "file_extension": ".py",
   "mimetype": "text/x-python",
   "name": "python",
   "nbconvert_exporter": "python",
   "pygments_lexer": "ipython3",
   "version": "3.5.5"
  }
 },
 "nbformat": 4,
 "nbformat_minor": 2
}

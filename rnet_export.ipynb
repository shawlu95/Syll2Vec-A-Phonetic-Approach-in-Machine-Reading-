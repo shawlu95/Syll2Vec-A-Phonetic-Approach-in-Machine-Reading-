{
 "cells": [
  {
   "cell_type": "code",
   "execution_count": 1,
   "metadata": {},
   "outputs": [],
   "source": [
    "import torch\n",
    "import torch.nn as nn"
   ]
  },
  {
   "cell_type": "code",
   "execution_count": 2,
   "metadata": {},
   "outputs": [],
   "source": [
    "import layers\n",
    "from util import collate_fn, SQuAD\n",
    "import util"
   ]
  },
  {
   "cell_type": "code",
   "execution_count": 3,
   "metadata": {},
   "outputs": [],
   "source": [
    "from models import BiDAF, RNet"
   ]
  },
  {
   "cell_type": "code",
   "execution_count": 4,
   "metadata": {},
   "outputs": [],
   "source": [
    "device = torch.device(\"cuda\" if torch.cuda.is_available() else \"cpu\")"
   ]
  },
  {
   "cell_type": "markdown",
   "metadata": {},
   "source": [
    "#### Load sample batch\n",
    "* Batch size 64 (64 training examples)\n",
    "* Each word is padded to 16 character"
   ]
  },
  {
   "cell_type": "code",
   "execution_count": 5,
   "metadata": {},
   "outputs": [],
   "source": [
    "cw_idxs = torch.load('data_dev/cw_idxs.pt') # torch.Size([64, 293])\n",
    "cc_idxs = torch.load('data_dev/cc_idxs.pt') # torch.Size([64, 293, 16])\n",
    "qw_idxs = torch.load('data_dev/qw_idxs.pt') # torch.Size([64, 29])\n",
    "qc_idxs = torch.load('data_dev/qc_idxs.pt') # torch.Size([64, 29, 16])\n",
    "y1 = torch.load('data_dev/y1.pt') # torch.Size([64])\n",
    "y2 = torch.load('data_dev/y2.pt') # torch.Size([64])\n",
    "ids = torch.load('data_dev/ids.pt') # torch.Size([64])"
   ]
  },
  {
   "cell_type": "markdown",
   "metadata": {},
   "source": [
    "#### Load embeddings"
   ]
  },
  {
   "cell_type": "code",
   "execution_count": 6,
   "metadata": {},
   "outputs": [],
   "source": [
    "word_vectors = util.torch_from_json(\"data/word_emb.json\")"
   ]
  },
  {
   "cell_type": "code",
   "execution_count": 7,
   "metadata": {},
   "outputs": [
    {
     "data": {
      "text/plain": [
       "torch.Size([88714, 300])"
      ]
     },
     "execution_count": 7,
     "metadata": {},
     "output_type": "execute_result"
    }
   ],
   "source": [
    "word_vectors.shape"
   ]
  },
  {
   "cell_type": "code",
   "execution_count": 8,
   "metadata": {},
   "outputs": [],
   "source": [
    "char_vectors = util.torch_from_json(\"data/char_emb.json\")"
   ]
  },
  {
   "cell_type": "code",
   "execution_count": 9,
   "metadata": {},
   "outputs": [
    {
     "data": {
      "text/plain": [
       "torch.Size([1376, 64])"
      ]
     },
     "execution_count": 9,
     "metadata": {},
     "output_type": "execute_result"
    }
   ],
   "source": [
    "char_vectors.shape"
   ]
  },
  {
   "cell_type": "markdown",
   "metadata": {},
   "source": [
    "#### Import R-Net"
   ]
  },
  {
   "cell_type": "code",
   "execution_count": 10,
   "metadata": {},
   "outputs": [],
   "source": [
    "from models import RNet"
   ]
  },
  {
   "cell_type": "code",
   "execution_count": 11,
   "metadata": {},
   "outputs": [],
   "source": [
    "rnet = RNet(word_vectors=word_vectors, char_vectors=char_vectors)"
   ]
  },
  {
   "cell_type": "code",
   "execution_count": 12,
   "metadata": {},
   "outputs": [],
   "source": [
    "p1, p2 = rnet.forward(cw_idxs, cc_idxs, qw_idxs, qc_idxs)"
   ]
  },
  {
   "cell_type": "code",
   "execution_count": 13,
   "metadata": {},
   "outputs": [
    {
     "data": {
      "text/plain": [
       "torch.Size([64, 29])"
      ]
     },
     "execution_count": 13,
     "metadata": {},
     "output_type": "execute_result"
    }
   ],
   "source": [
    "p1.shape"
   ]
  },
  {
   "cell_type": "code",
   "execution_count": 14,
   "metadata": {},
   "outputs": [
    {
     "data": {
      "text/plain": [
       "torch.Size([64, 29])"
      ]
     },
     "execution_count": 14,
     "metadata": {},
     "output_type": "execute_result"
    }
   ],
   "source": [
    "p2.shape"
   ]
  },
  {
   "cell_type": "code",
   "execution_count": 15,
   "metadata": {},
   "outputs": [
    {
     "data": {
      "text/plain": [
       "tensor([[4.6496e-01, 2.2318e-01, 9.3038e-02,  ..., 6.0150e-03, 6.0150e-03,\n",
       "         6.0151e-03],\n",
       "        [4.8761e-04, 6.2744e-03, 1.9599e-02,  ..., 3.8146e-02, 3.8146e-02,\n",
       "         3.8147e-02],\n",
       "        [8.6510e-01, 4.7152e-02, 1.0637e-02,  ..., 2.8421e-03, 2.8421e-03,\n",
       "         2.8421e-03],\n",
       "        ...,\n",
       "        [9.2232e-01, 1.8504e-02, 3.8325e-03,  ..., 2.1299e-03, 2.1299e-03,\n",
       "         2.1299e-03],\n",
       "        [5.3848e-03, 9.6267e-03, 2.0280e-02,  ..., 3.5807e-02, 3.5807e-02,\n",
       "         3.5806e-02],\n",
       "        [1.4983e-04, 2.2542e-03, 8.7633e-03,  ..., 4.0478e-02, 4.0478e-02,\n",
       "         4.0478e-02]], grad_fn=<SoftmaxBackward>)"
      ]
     },
     "execution_count": 15,
     "metadata": {},
     "output_type": "execute_result"
    }
   ],
   "source": [
    "p1"
   ]
  }
 ],
 "metadata": {
  "kernelspec": {
   "display_name": "Python 3",
   "language": "python",
   "name": "python3"
  },
  "language_info": {
   "codemirror_mode": {
    "name": "ipython",
    "version": 3
   },
   "file_extension": ".py",
   "mimetype": "text/x-python",
   "name": "python",
   "nbconvert_exporter": "python",
   "pygments_lexer": "ipython3",
   "version": "3.5.5"
  }
 },
 "nbformat": 4,
 "nbformat_minor": 2
}
